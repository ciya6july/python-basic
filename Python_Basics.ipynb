{
  "nbformat": 4,
  "nbformat_minor": 0,
  "metadata": {
    "colab": {
      "provenance": []
    },
    "kernelspec": {
      "name": "python3",
      "display_name": "Python 3"
    },
    "language_info": {
      "name": "python"
    }
  },
  "cells": [
    {
      "cell_type": "markdown",
      "source": [
        "# Python Basics\n",
        "\n",
        "# Theoretical\n",
        "\n",
        "q1. What is Python, and why is it popular\n",
        "- Python is a programming language.\n",
        "- it is popular because it is very easy language and use in multiple organizations.\n",
        "-it has many libraries.\n",
        "- it is popular among developers.\n",
        "\n",
        "\n",
        "q2. What is an interpreter in Python\n",
        "\n",
        "- it is programme that reads and executes code line by line.\n",
        "- It acts as a translator between your code and the computer's hardware.\n",
        "\n",
        "\n",
        "q3. What are pre-defined keywords in Python\n",
        "- Pre-defined keywords in Python are reserved words that have special meanings and purposes within the language.\n",
        "- They cannot be used as identifiers (like variable names).\n",
        "\n",
        "\n",
        "q4. Can keywords be used as variable names\n",
        "- No, keywords cannot be used as variable names in Python\n",
        "- Keywords have predefined meanings and functionalities in the Python language. Using them as variable names would create confusion for the interpreter and will get a syntax error.\n",
        "\n",
        "\n",
        "q5. What is mutability in Python\n",
        "- Mutability refers to whether an object can be changed after it's created.\n",
        "- Mutable objects can be altered. Examples: lists, dictionaries.\n",
        "- Immutable objects cannot be changed once created. Examples:  strings, tuples.\n",
        "\n",
        "\n",
        "q6. Why are lists mutable, but tuples are immutable\n",
        "- Lists are designed for flexible data storage and modification, while tuples prioritize data integrity and performance by being immutable.\n",
        "- Lists are designed for storing collections of items that might need to be modified, such as adding, removing, or updating elements. Tuples, on the other hand, are intended for representing fixed collections of items, like coordinates, database records, or function arguments.\n",
        "\n",
        "\n",
        "\n",
        "q7. What is the difference between “==” and “is” operators in Python\n",
        "- \"==\" checks if two objects have the same value, while \"is\" checks if they are the same object in memory.\n",
        "- Think of \"==\" as comparing content and \"is\" as comparing identity.\n",
        "\n",
        "\n",
        "q8. What are logical operators in Python\n",
        "- Logical operators in Python are used to combine or modify Boolean expressions.\n",
        "- The main logical operators are: and, or, and not.\n",
        "\n",
        "\n",
        "q9. What is type casting in Python\n",
        "- Type casting in Python is the process of converting a variable's data type to another data type.\n",
        "- This is done using functions like int(), float(), str(), etc.\n",
        "\n",
        "\n",
        "\n",
        "q10. What is the difference between implicit and explicit type casting\n",
        "- Implicit type casting is done automatically by Python, while explicit type casting is performed by the programmer using functions.\n",
        "- Implicit casting often occurs in mixed-type expressions, promoting to a wider type, while explicit casting gives control for specific conversions, like int(), float(), str() to control the conversion.\n",
        "\n",
        "q11. What is the purpose of conditional statements in Python\n",
        "- Conditional statements in Python control the flow of execution based on conditions.\n",
        "- They allow you to execute certain blocks of code only if specific conditions are met, using if, elif, and else.\n",
        "\n",
        "q12. How does the elif statement work\n",
        "- The elif statement in Python is used within an if block to check for additional conditions if the preceding if or elif conditions are False.\n",
        "- It provides a way to test multiple conditions sequentially and execute a specific block of code when a condition is True.\n",
        "\n",
        "q13. What is the difference between for and while loops\n",
        "- for loops iterate over a sequence (like a list or range) for a predetermined number of times, while while loops continue as long as a condition remains True.\n",
        "- Use for when you know how many times to iterate; use while for indefinite iteration based on a condition.\n",
        "\n",
        "q14.  Describe a scenario where a while loop is more suitable than a for loop.\n",
        "- Consider a scenario where you need to keep asking for user input until they enter a valid value (e.g., a positive number).\n",
        "-A while loop is ideal here because you don't know in advance how many times the loop will need to run.\n",
        "\n",
        "user_input = -1  \n",
        "\n",
        "while user_input <= 0:\n",
        "\n",
        "  user_input = int(input(\"Enter a positive number: \"))\n",
        "\n",
        "\n",
        "print(\"You entered:\", user_input)\n",
        "\n",
        "\n",
        "- In this example, the while loop continues to prompt the user until they provide a positive number. This type of indefinite iteration is where while loops excel.\n",
        "\n"
      ],
      "metadata": {
        "id": "Zipy3TvrwjZY"
      }
    },
    {
      "cell_type": "markdown",
      "source": [
        "# Practical\n"
      ],
      "metadata": {
        "id": "Ne7CcjIHLtmN"
      }
    },
    {
      "cell_type": "code",
      "source": [
        "# 1. Write a Python program to print \"Hello, World!\n",
        "print(\"Hello, world!\")"
      ],
      "metadata": {
        "id": "fpnIjyZvzzTP",
        "colab": {
          "base_uri": "https://localhost:8080/"
        },
        "outputId": "e6ea6181-d591-4814-b435-48a3322a257c"
      },
      "execution_count": null,
      "outputs": [
        {
          "output_type": "stream",
          "name": "stdout",
          "text": [
            "Hello, world!\n"
          ]
        }
      ]
    },
    {
      "cell_type": "code",
      "source": [
        "#2. Write a Python program that displays your name and age\n",
        "name= input (\"enter your name\")\n",
        "age= input (\"enter your age\")\n",
        "print(name,age)\n",
        "\n",
        "\n",
        "\n",
        "\n"
      ],
      "metadata": {
        "colab": {
          "base_uri": "https://localhost:8080/"
        },
        "id": "VNquSl0U0fMm",
        "outputId": "e4286d32-ca8b-4bdc-c1aa-ea0cc78f50e5"
      },
      "execution_count": null,
      "outputs": [
        {
          "output_type": "stream",
          "name": "stdout",
          "text": [
            "enter your nameChhaya\n",
            "enter your age33\n",
            "Chhaya 33\n"
          ]
        }
      ]
    },
    {
      "cell_type": "code",
      "source": [
        "#3. Write code to print all the pre-defined keywords in Python using the keyword library\n",
        "import keyword\n",
        "print(keyword.kwlist)"
      ],
      "metadata": {
        "colab": {
          "base_uri": "https://localhost:8080/"
        },
        "id": "6JBasLhj5t5n",
        "outputId": "f64b6c98-d826-4fa9-ce8f-4e1f0761daaf"
      },
      "execution_count": null,
      "outputs": [
        {
          "output_type": "stream",
          "name": "stdout",
          "text": [
            "['False', 'None', 'True', 'and', 'as', 'assert', 'async', 'await', 'break', 'class', 'continue', 'def', 'del', 'elif', 'else', 'except', 'finally', 'for', 'from', 'global', 'if', 'import', 'in', 'is', 'lambda', 'nonlocal', 'not', 'or', 'pass', 'raise', 'return', 'try', 'while', 'with', 'yield']\n"
          ]
        }
      ]
    },
    {
      "cell_type": "code",
      "source": [
        "#4. Write a program that checks if a given word is a Python keyword.\n",
        "a = input(\"Enter a word: \")\n",
        "import keyword\n",
        "if keyword.iskeyword(a):\n",
        "    print(\"Keyword\")\n",
        "else:\n",
        "    print(\"Not a keyword\")"
      ],
      "metadata": {
        "id": "gWYXSpCK572u",
        "colab": {
          "base_uri": "https://localhost:8080/"
        },
        "outputId": "04c678ea-6061-4797-878d-a0638d2368b2"
      },
      "execution_count": null,
      "outputs": [
        {
          "output_type": "stream",
          "name": "stdout",
          "text": [
            "Enter a word: else\n",
            "Keyword\n"
          ]
        }
      ]
    },
    {
      "cell_type": "code",
      "source": [
        "#5. Create a list and tuple in Python, and demonstrate how attempting to change an element works differently for each.\n",
        "my_list = (1,2,3,4,3.5)\n",
        "print(my_list)"
      ],
      "metadata": {
        "colab": {
          "base_uri": "https://localhost:8080/"
        },
        "id": "-mmikyBVWmSx",
        "outputId": "0c17ce5e-2b42-4fc9-c877-05d1d8b1ebbe"
      },
      "execution_count": null,
      "outputs": [
        {
          "output_type": "stream",
          "name": "stdout",
          "text": [
            "(1, 2, 3, 4, 3.5)\n"
          ]
        }
      ]
    },
    {
      "cell_type": "code",
      "source": [
        "my_tuple = (1,2,3,\"hello\",3.5)\n",
        "print(my_tuple)"
      ],
      "metadata": {
        "colab": {
          "base_uri": "https://localhost:8080/"
        },
        "id": "MXOWdVCkbGZ-",
        "outputId": "4e1da540-93dd-4300-be87-80ebbcb5107b"
      },
      "execution_count": 2,
      "outputs": [
        {
          "output_type": "stream",
          "name": "stdout",
          "text": [
            "(1, 2, 3, 'hello', 3.5)\n"
          ]
        }
      ]
    },
    {
      "cell_type": "code",
      "source": [
        "#6. Write a function to demonstrate the behavior of mutable and immutable arguments.\n",
        "a=5\n",
        "b=\"chhaya\"\n",
        "print(str(a))"
      ],
      "metadata": {
        "colab": {
          "base_uri": "https://localhost:8080/"
        },
        "id": "omPkYvlveIlD",
        "outputId": "ffe9b11c-1857-4fd4-eb77-3581b05142bf"
      },
      "execution_count": null,
      "outputs": [
        {
          "output_type": "stream",
          "name": "stdout",
          "text": [
            "5\n"
          ]
        }
      ]
    },
    {
      "cell_type": "code",
      "source": [
        "a=5\n",
        "b=\"chhaya\"\n",
        "print(int(b))"
      ],
      "metadata": {
        "colab": {
          "base_uri": "https://localhost:8080/",
          "height": 176
        },
        "id": "BXtEL7-ndtSV",
        "outputId": "4598d58a-fd64-4fd4-898d-8b3604c14e0e"
      },
      "execution_count": 3,
      "outputs": [
        {
          "output_type": "error",
          "ename": "ValueError",
          "evalue": "invalid literal for int() with base 10: 'chhaya'",
          "traceback": [
            "\u001b[0;31m---------------------------------------------------------------------------\u001b[0m",
            "\u001b[0;31mValueError\u001b[0m                                Traceback (most recent call last)",
            "\u001b[0;32m<ipython-input-3-285dc220cdfd>\u001b[0m in \u001b[0;36m<cell line: 0>\u001b[0;34m()\u001b[0m\n\u001b[1;32m      1\u001b[0m \u001b[0ma\u001b[0m\u001b[0;34m=\u001b[0m\u001b[0;36m5\u001b[0m\u001b[0;34m\u001b[0m\u001b[0;34m\u001b[0m\u001b[0m\n\u001b[1;32m      2\u001b[0m \u001b[0mb\u001b[0m\u001b[0;34m=\u001b[0m\u001b[0;34m\"chhaya\"\u001b[0m\u001b[0;34m\u001b[0m\u001b[0;34m\u001b[0m\u001b[0m\n\u001b[0;32m----> 3\u001b[0;31m \u001b[0mprint\u001b[0m\u001b[0;34m(\u001b[0m\u001b[0mint\u001b[0m\u001b[0;34m(\u001b[0m\u001b[0mb\u001b[0m\u001b[0;34m)\u001b[0m\u001b[0;34m)\u001b[0m\u001b[0;34m\u001b[0m\u001b[0;34m\u001b[0m\u001b[0m\n\u001b[0m",
            "\u001b[0;31mValueError\u001b[0m: invalid literal for int() with base 10: 'chhaya'"
          ]
        }
      ]
    },
    {
      "cell_type": "code",
      "source": [
        "#7. Write a program that performs basic arithmetic operations on two user-input numbers.\n",
        "a=int(input(\"enter first number\"))\n",
        "b=int(input(\"enter second nymber\"))\n",
        "print(a+b)\n",
        "print(a-b)\n",
        "print(a*b)\n",
        "print(a/b)"
      ],
      "metadata": {
        "colab": {
          "base_uri": "https://localhost:8080/"
        },
        "id": "6sbBcGAkenWr",
        "outputId": "b7027e1f-d8ba-412c-9a42-087d8814b159"
      },
      "execution_count": null,
      "outputs": [
        {
          "output_type": "stream",
          "name": "stdout",
          "text": [
            "enter first number5\n",
            "enter second nymber10\n",
            "15\n",
            "-5\n",
            "50\n",
            "0.5\n"
          ]
        }
      ]
    },
    {
      "cell_type": "code",
      "source": [
        "#8. Write a program to demonstrate the use of logical operators.\n",
        "a=bool(input(\"enter first number\"))\n",
        "b=bool(input(\"enter seocnd number\"))\n",
        "print(a and b)\n",
        "print(a or b)\n",
        "print(not a)\n",
        "print (not b)"
      ],
      "metadata": {
        "colab": {
          "base_uri": "https://localhost:8080/"
        },
        "id": "O2YWQG7glPTw",
        "outputId": "4dd2c908-2e2a-485a-9ca1-0b7415f8ee94"
      },
      "execution_count": null,
      "outputs": [
        {
          "output_type": "stream",
          "name": "stdout",
          "text": [
            "enter first number2\n",
            "enter seocnd number4\n",
            "True\n",
            "True\n",
            "False\n",
            "False\n"
          ]
        }
      ]
    },
    {
      "cell_type": "code",
      "source": [
        "#9. Write a Python program to convert user input from string to integer, float, and boolean types.\n",
        "a=input(\"enter Value\")\n",
        "print(int(a))\n",
        "print(float(a))\n",
        "print(bool(a))\n"
      ],
      "metadata": {
        "colab": {
          "base_uri": "https://localhost:8080/"
        },
        "id": "xuSDO41vmlGL",
        "outputId": "bfec42e4-8de3-4357-ef2a-76d6eee11767"
      },
      "execution_count": null,
      "outputs": [
        {
          "output_type": "stream",
          "name": "stdout",
          "text": [
            "enter Value5\n",
            "5\n",
            "5.0\n",
            "True\n"
          ]
        }
      ]
    },
    {
      "cell_type": "code",
      "source": [
        "#10.  Write code to demonstrate type casting with list elements.\n",
        "a=(1,2,3,4,5)\n",
        "print(float(a[3]))"
      ],
      "metadata": {
        "colab": {
          "base_uri": "https://localhost:8080/"
        },
        "id": "fkO07wRK1gdl",
        "outputId": "82f91bde-2cee-4169-f60c-4b902f46f290"
      },
      "execution_count": null,
      "outputs": [
        {
          "output_type": "stream",
          "name": "stdout",
          "text": [
            "4.0\n"
          ]
        }
      ]
    },
    {
      "cell_type": "code",
      "source": [
        "#11. write a program that checks if a number is positive, negative, or zero.\n",
        "a=int(input(\"enter number\"))\n",
        "if a>0:\n",
        "  print(\"positive\")\n",
        "elif a<0:\n",
        "  print(\"negative\")\n",
        "else:\n",
        "  print (0)\n"
      ],
      "metadata": {
        "colab": {
          "base_uri": "https://localhost:8080/"
        },
        "id": "ywJkQ1hR2phO",
        "outputId": "bf824eb8-ce0e-4930-bb43-9ee4f8468a39"
      },
      "execution_count": null,
      "outputs": [
        {
          "output_type": "stream",
          "name": "stdout",
          "text": [
            "enter number10\n",
            "positive\n"
          ]
        }
      ]
    },
    {
      "cell_type": "code",
      "source": [
        "#12.  Write a for loop to print numbers from 1 to 10.\n",
        "a=1\n",
        "while a<10:\n",
        "  print(a)\n",
        "  a+=1\n",
        "\n"
      ],
      "metadata": {
        "colab": {
          "base_uri": "https://localhost:8080/"
        },
        "id": "iUninZHU4hIx",
        "outputId": "0d987ecc-8ff8-409e-cacc-a380cc02edaf"
      },
      "execution_count": null,
      "outputs": [
        {
          "output_type": "stream",
          "name": "stdout",
          "text": [
            "1\n",
            "2\n",
            "3\n",
            "4\n",
            "5\n",
            "6\n",
            "7\n",
            "8\n",
            "9\n"
          ]
        }
      ]
    },
    {
      "cell_type": "code",
      "source": [
        "#13.  Write a Python program to find the sum of all even numbers between 1 and 50.\n",
        "a=2\n",
        "sum=0\n",
        "while a<51:\n",
        "  sum=a+sum\n",
        "  a+=2\n",
        "print(sum)\n"
      ],
      "metadata": {
        "colab": {
          "base_uri": "https://localhost:8080/"
        },
        "id": "Qlexb1m-6jwE",
        "outputId": "eaed5252-1d52-4f39-b162-d59ee16aeb44"
      },
      "execution_count": null,
      "outputs": [
        {
          "output_type": "stream",
          "name": "stdout",
          "text": [
            "650\n"
          ]
        }
      ]
    },
    {
      "cell_type": "code",
      "source": [
        "#14. Write a program to reverse a string using a while loop.\n",
        "string = input(\"Enter a string: \")\n",
        "reversed_string = \"\"\n",
        "index = len(string) - 1\n",
        "\n",
        "while index >= 0:\n",
        "    reversed_string += string[index]\n",
        "    index -= 1\n",
        "\n",
        "print(\"Reversed string:\", reversed_string)"
      ],
      "metadata": {
        "id": "wAHCBN4685zF",
        "colab": {
          "base_uri": "https://localhost:8080/"
        },
        "outputId": "13803fd7-8037-494b-ae3e-87a87e35585c"
      },
      "execution_count": 6,
      "outputs": [
        {
          "output_type": "stream",
          "name": "stdout",
          "text": [
            "Enter a string: chhaya\n",
            "Reversed string: ayahhc\n"
          ]
        }
      ]
    },
    {
      "cell_type": "code",
      "source": [
        "#15. Write a Python program to calculate the factorial of a number provided by the user using a while loop.\n",
        "num = int(input(\"Enter a number: \"))\n",
        "factorial = 1\n",
        "i = 1\n",
        "\n",
        "while i <= num:\n",
        "    factorial *= i\n",
        "    i += 1\n",
        "\n",
        "print(\"The factorial of\", num, \"is\", factorial)"
      ],
      "metadata": {
        "id": "iRH3diDLEMiL",
        "colab": {
          "base_uri": "https://localhost:8080/"
        },
        "outputId": "7f1f0f30-903d-462d-8887-db29ca865288"
      },
      "execution_count": 7,
      "outputs": [
        {
          "output_type": "stream",
          "name": "stdout",
          "text": [
            "Enter a number: 5\n",
            "The factorial of 5 is 120\n"
          ]
        }
      ]
    },
    {
      "cell_type": "code",
      "source": [],
      "metadata": {
        "id": "g4GsAYZjffdY"
      },
      "execution_count": null,
      "outputs": []
    }
  ]
}